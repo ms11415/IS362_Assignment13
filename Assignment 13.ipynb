{
 "cells": [
  {
   "cell_type": "markdown",
   "metadata": {},
   "source": [
    "# Assignment 13 - Preprocessing data for scikit-learn\n",
    "\n",
    "__This assignment prepares data from the mushroom dataset found at https://archive.ics.uci.edu/ml/datasets/Mushroom to prepare for predictive analysis in project 4.__\n",
    "\n",
    "__First we look at the data dictionary to see what we're dealing with. We find:__\n",
    "\n",
    "```\n",
    "Attribute Information: (classes: edible=e, poisonous=p)\n",
    "     1. cap-shape:                bell=b,conical=c,convex=x,flat=f,\n",
    "                                  knobbed=k,sunken=s\n",
    "     2. cap-surface:              fibrous=f,grooves=g,scaly=y,smooth=s\n",
    "     3. cap-color:                brown=n,buff=b,cinnamon=c,gray=g,green=r,\n",
    "                                  pink=p,purple=u,red=e,white=w,yellow=y\n",
    "     4. bruises?:                 bruises=t,no=f\n",
    "     5. odor:                     almond=a,anise=l,creosote=c,fishy=y,foul=f,\n",
    "                                  musty=m,none=n,pungent=p,spicy=s\n",
    "     6. gill-attachment:          attached=a,descending=d,free=f,notched=n\n",
    "     7. gill-spacing:             close=c,crowded=w,distant=d\n",
    "     8. gill-size:                broad=b,narrow=n\n",
    "     9. gill-color:               black=k,brown=n,buff=b,chocolate=h,gray=g,\n",
    "                                  green=r,orange=o,pink=p,purple=u,red=e,\n",
    "                                  white=w,yellow=y\n",
    "    10. stalk-shape:              enlarging=e,tapering=t\n",
    "    11. stalk-root:               bulbous=b,club=c,cup=u,equal=e,\n",
    "                                  rhizomorphs=z,rooted=r,missing=?\n",
    "    12. stalk-surface-above-ring: fibrous=f,scaly=y,silky=k,smooth=s\n",
    "    13. stalk-surface-below-ring: fibrous=f,scaly=y,silky=k,smooth=s\n",
    "    14. stalk-color-above-ring:   brown=n,buff=b,cinnamon=c,gray=g,orange=o,\n",
    "                                  pink=p,red=e,white=w,yellow=y\n",
    "    15. stalk-color-below-ring:   brown=n,buff=b,cinnamon=c,gray=g,orange=o,\n",
    "                                  pink=p,red=e,white=w,yellow=y\n",
    "    16. veil-type:                partial=p,universal=u\n",
    "    17. veil-color:               brown=n,orange=o,white=w,yellow=y\n",
    "    18. ring-number:              none=n,one=o,two=t\n",
    "    19. ring-type:                cobwebby=c,evanescent=e,flaring=f,large=l,\n",
    "                                  none=n,pendant=p,sheathing=s,zone=z\n",
    "    20. spore-print-color:        black=k,brown=n,buff=b,chocolate=h,green=r,\n",
    "                                  orange=o,purple=u,white=w,yellow=y\n",
    "    21. population:               abundant=a,clustered=c,numerous=n,\n",
    "                                  scattered=s,several=v,solitary=y\n",
    "    22. habitat:                  grasses=g,leaves=l,meadows=m,paths=p,\n",
    "                                  urban=u,waste=w,woods=d\n",
    "\n",
    "Missing Attribute Values: 2480 of them (denoted by \"?\"), all for attribute #11.\n",
    "```\n",
    "\n",
    "__Armed with this knowledge, we create our Pandas dataframe with a subset of columns - edible/poisonous, odor, and an additional one of our choosing (in this case, ring-number).__"
   ]
  },
  {
   "cell_type": "code",
   "execution_count": 1,
   "metadata": {},
   "outputs": [
    {
     "data": {
      "text/html": [
       "<div>\n",
       "<style>\n",
       "    .dataframe thead tr:only-child th {\n",
       "        text-align: right;\n",
       "    }\n",
       "\n",
       "    .dataframe thead th {\n",
       "        text-align: left;\n",
       "    }\n",
       "\n",
       "    .dataframe tbody tr th {\n",
       "        vertical-align: top;\n",
       "    }\n",
       "</style>\n",
       "<table border=\"1\" class=\"dataframe\">\n",
       "  <thead>\n",
       "    <tr style=\"text-align: right;\">\n",
       "      <th></th>\n",
       "      <th>Class</th>\n",
       "      <th>Odor</th>\n",
       "      <th>RingNumber</th>\n",
       "    </tr>\n",
       "  </thead>\n",
       "  <tbody>\n",
       "    <tr>\n",
       "      <th>0</th>\n",
       "      <td>p</td>\n",
       "      <td>p</td>\n",
       "      <td>o</td>\n",
       "    </tr>\n",
       "    <tr>\n",
       "      <th>1</th>\n",
       "      <td>e</td>\n",
       "      <td>a</td>\n",
       "      <td>o</td>\n",
       "    </tr>\n",
       "    <tr>\n",
       "      <th>2</th>\n",
       "      <td>e</td>\n",
       "      <td>l</td>\n",
       "      <td>o</td>\n",
       "    </tr>\n",
       "    <tr>\n",
       "      <th>3</th>\n",
       "      <td>p</td>\n",
       "      <td>p</td>\n",
       "      <td>o</td>\n",
       "    </tr>\n",
       "    <tr>\n",
       "      <th>4</th>\n",
       "      <td>e</td>\n",
       "      <td>n</td>\n",
       "      <td>o</td>\n",
       "    </tr>\n",
       "  </tbody>\n",
       "</table>\n",
       "</div>"
      ],
      "text/plain": [
       "  Class Odor RingNumber\n",
       "0     p    p          o\n",
       "1     e    a          o\n",
       "2     e    l          o\n",
       "3     p    p          o\n",
       "4     e    n          o"
      ]
     },
     "execution_count": 1,
     "metadata": {},
     "output_type": "execute_result"
    }
   ],
   "source": [
    "import pandas as pd\n",
    "import matplotlib.pyplot as plt\n",
    "%matplotlib inline\n",
    "\n",
    "url = 'https://archive.ics.uci.edu/ml/machine-learning-databases/mushroom/agaricus-lepiota.data'\n",
    "mushrooms = pd.read_csv(url, usecols = [0,5,18], names = ['Class', 'Odor', 'RingNumber'])\n",
    "mushrooms.head()"
   ]
  },
  {
   "cell_type": "markdown",
   "metadata": {},
   "source": [
    "__Next, we replace the codes in the columns with numeric values.__"
   ]
  },
  {
   "cell_type": "code",
   "execution_count": 2,
   "metadata": {},
   "outputs": [
    {
     "data": {
      "text/html": [
       "<div>\n",
       "<style>\n",
       "    .dataframe thead tr:only-child th {\n",
       "        text-align: right;\n",
       "    }\n",
       "\n",
       "    .dataframe thead th {\n",
       "        text-align: left;\n",
       "    }\n",
       "\n",
       "    .dataframe tbody tr th {\n",
       "        vertical-align: top;\n",
       "    }\n",
       "</style>\n",
       "<table border=\"1\" class=\"dataframe\">\n",
       "  <thead>\n",
       "    <tr style=\"text-align: right;\">\n",
       "      <th></th>\n",
       "      <th>Class</th>\n",
       "      <th>Odor</th>\n",
       "      <th>RingNumber</th>\n",
       "    </tr>\n",
       "  </thead>\n",
       "  <tbody>\n",
       "    <tr>\n",
       "      <th>0</th>\n",
       "      <td>1</td>\n",
       "      <td>7</td>\n",
       "      <td>1</td>\n",
       "    </tr>\n",
       "    <tr>\n",
       "      <th>1</th>\n",
       "      <td>0</td>\n",
       "      <td>0</td>\n",
       "      <td>1</td>\n",
       "    </tr>\n",
       "    <tr>\n",
       "      <th>2</th>\n",
       "      <td>0</td>\n",
       "      <td>1</td>\n",
       "      <td>1</td>\n",
       "    </tr>\n",
       "    <tr>\n",
       "      <th>3</th>\n",
       "      <td>1</td>\n",
       "      <td>7</td>\n",
       "      <td>1</td>\n",
       "    </tr>\n",
       "    <tr>\n",
       "      <th>4</th>\n",
       "      <td>0</td>\n",
       "      <td>6</td>\n",
       "      <td>1</td>\n",
       "    </tr>\n",
       "  </tbody>\n",
       "</table>\n",
       "</div>"
      ],
      "text/plain": [
       "   Class  Odor  RingNumber\n",
       "0      1     7           1\n",
       "1      0     0           1\n",
       "2      0     1           1\n",
       "3      1     7           1\n",
       "4      0     6           1"
      ]
     },
     "execution_count": 2,
     "metadata": {},
     "output_type": "execute_result"
    }
   ],
   "source": [
    "mushrooms['Class'].replace({'p': 1,'e': 0}, inplace = True)\n",
    "mushrooms['Odor'].replace(\n",
    "    {'a':0,'l':1,'c':2,'y':3,'f':4,'m':5,'n':6,'p':7,'s':8}, inplace = True)\n",
    "mushrooms['RingNumber'].replace({'n':0, 'o':1, 't': 2}, inplace = True)\n",
    "mushrooms.head()"
   ]
  },
  {
   "cell_type": "markdown",
   "metadata": {},
   "source": [
    "__Next, we show distribution data for each of the columns.__"
   ]
  },
  {
   "cell_type": "code",
   "execution_count": 3,
   "metadata": {},
   "outputs": [
    {
     "data": {
      "text/plain": [
       "<matplotlib.axes._subplots.AxesSubplot at 0x10be54dd0>"
      ]
     },
     "execution_count": 3,
     "metadata": {},
     "output_type": "execute_result"
    },
    {
     "data": {
      "image/png": "[encoded data removed]",
      "text/plain": [
       "<matplotlib.figure.Figure at 0x102b68ed0>"
      ]
     },
     "metadata": {},
     "output_type": "display_data"
    }
   ],
   "source": [
    "mushrooms.groupby('Class')['Class'].count().plot.bar()"
   ]
  },
  {
   "cell_type": "markdown",
   "metadata": {},
   "source": [
    "__This shows that the mushroom data is almost evenly distributed between edible (value = 0) and poisonous (value = 1).__"
   ]
  },
  {
   "cell_type": "code",
   "execution_count": 4,
   "metadata": {},
   "outputs": [
    {
     "data": {
      "text/plain": [
       "<matplotlib.axes._subplots.AxesSubplot at 0x10beeca50>"
      ]
     },
     "execution_count": 4,
     "metadata": {},
     "output_type": "execute_result"
    },
    {
     "data": {
      "image/png": "[encoded data removed]",
      "text/plain": [
       "<matplotlib.figure.Figure at 0x108c1cb90>"
      ]
     },
     "metadata": {},
     "output_type": "display_data"
    }
   ],
   "source": [
    "mushrooms.groupby('Odor')['Odor'].count().plot.bar()"
   ]
  },
  {
   "cell_type": "markdown",
   "metadata": {},
   "source": [
    "__We see that 4 ('foul') and 6 ('none') are the most common odors.__"
   ]
  },
  {
   "cell_type": "code",
   "execution_count": 5,
   "metadata": {},
   "outputs": [
    {
     "data": {
      "text/plain": [
       "<matplotlib.axes._subplots.AxesSubplot at 0x10bfba810>"
      ]
     },
     "execution_count": 5,
     "metadata": {},
     "output_type": "execute_result"
    },
    {
     "data": {
      "image/png": "[encoded data removed]",
      "text/plain": [
       "<matplotlib.figure.Figure at 0x10be54b10>"
      ]
     },
     "metadata": {},
     "output_type": "display_data"
    }
   ],
   "source": [
    "mushrooms.groupby('RingNumber')['RingNumber'].count().plot.bar()"
   ]
  },
  {
   "cell_type": "markdown",
   "metadata": {},
   "source": [
    "__Most of the mushrooms in the dataset have only one ring.__"
   ]
  },
  {
   "cell_type": "code",
   "execution_count": 6,
   "metadata": {},
   "outputs": [
    {
     "data": {
      "text/plain": [
       "<matplotlib.text.Text at 0x110236950>"
      ]
     },
     "execution_count": 6,
     "metadata": {},
     "output_type": "execute_result"
    },
    {
     "data": {
      "image/png": "[encoded data removed]",
      "text/plain": [
       "<matplotlib.figure.Figure at 0x110225610>"
      ]
     },
     "metadata": {},
     "output_type": "display_data"
    }
   ],
   "source": [
    "plt.scatter(mushrooms.Class, mushrooms.Odor)\n",
    "plt.title('Class vs Odor')\n",
    "plt.xlabel('Edible = 0, Poisonous = 1')\n",
    "plt.ylabel('Odor')"
   ]
  },
  {
   "cell_type": "markdown",
   "metadata": {},
   "source": [
    "__We see that odors 2 through 6 are associated with being poisonous, while odor 6 ('none') might be edible or poisonous.  Odors 0 and 1 ('almond' and 'anise') are associated with being edible.__"
   ]
  },
  {
   "cell_type": "code",
   "execution_count": 7,
   "metadata": {},
   "outputs": [
    {
     "data": {
      "text/plain": [
       "<matplotlib.text.Text at 0x10cea3410>"
      ]
     },
     "execution_count": 7,
     "metadata": {},
     "output_type": "execute_result"
    },
    {
     "data": {
      "image/png": "[encoded data removed]",
      "text/plain": [
       "<matplotlib.figure.Figure at 0x11036fcd0>"
      ]
     },
     "metadata": {},
     "output_type": "display_data"
    }
   ],
   "source": [
    "plt.scatter(mushrooms.Class, mushrooms.RingNumber)\n",
    "plt.title('Class vs Ring Number')\n",
    "plt.xlabel('Edible = 0, Poisonous = 1')\n",
    "plt.ylabel('Ring Number')"
   ]
  },
  {
   "cell_type": "markdown",
   "metadata": {},
   "source": [
    "__We see that one or two rings can be either edible or poisonous, but no rings indicates a poisonous mushroom.__"
   ]
  }
 ],
 "metadata": {
  "kernelspec": {
   "display_name": "Python 2",
   "language": "python",
   "name": "python2"
  },
  "language_info": {
   "codemirror_mode": {
    "name": "ipython",
    "version": 2
   },
   "file_extension": ".py",
   "mimetype": "text/x-python",
   "name": "python",
   "nbconvert_exporter": "python",
   "pygments_lexer": "ipython2",
   "version": "2.7.13"
  }
 },
 "nbformat": 4,
 "nbformat_minor": 2
}
